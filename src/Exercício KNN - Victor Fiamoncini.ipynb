{
 "cells": [
  {
   "cell_type": "markdown",
   "id": "596a9ea0",
   "metadata": {},
   "source": [
    "# Classificador de câncer de mama"
   ]
  },
  {
   "cell_type": "markdown",
   "id": "21e0ded0",
   "metadata": {},
   "source": [
    "Neste projeto, usaremos um classificador K-Nearest Neighbor para prever se um paciente tem câncer de mama."
   ]
  },
  {
   "cell_type": "markdown",
   "id": "b59beab8",
   "metadata": {},
   "source": [
    "### Carregando o conjunto de dados"
   ]
  },
  {
   "cell_type": "markdown",
   "id": "8effc9a5",
   "metadata": {},
   "source": [
    "Vamos obter os dados de cancêr de mama do próprio `sklearn` importando a função `load_breast_cancer` do `sklearn.datasets` "
   ]
  },
  {
   "cell_type": "code",
   "execution_count": null,
   "id": "4267da2b",
   "metadata": {},
   "outputs": [],
   "source": [
    "from sklearn.datasets import load_breast_cancer"
   ]
  },
  {
   "cell_type": "markdown",
   "id": "36f4bffb",
   "metadata": {},
   "source": [
    "**1.** Depois de importar o conjunto de dados, vamos carregar os dados em uma variável chamada `dados_cancer_mama`. Faça isso configurando `dados_cancer_mama` igual à função `load_breast_cancer()`."
   ]
  },
  {
   "cell_type": "code",
   "execution_count": null,
   "id": "c3691c55",
   "metadata": {},
   "outputs": [],
   "source": []
  },
  {
   "cell_type": "markdown",
   "id": "932e71fc",
   "metadata": {},
   "source": [
    "**2.** Antes de começarmos a criar nosso classificador, vamos dar uma olhada nos dados. Comece imprimindo `dados_cancer_mama.data[0]`. Esse é o primeiro ponto de dados em nosso conjunto. Mas o que todos esses números representam? Imprima também `dados_cancer_mama.feature_names`."
   ]
  },
  {
   "cell_type": "code",
   "execution_count": null,
   "id": "8b0708aa",
   "metadata": {},
   "outputs": [],
   "source": []
  },
  {
   "cell_type": "markdown",
   "id": "1286a7b1",
   "metadata": {},
   "source": [
    "**3.** Agora temos uma noção de como são os dados, vamos verificar o que estamos tentando classificar? Vamos imprimir ambos `dados_cancer_mama.target` e `dados_cancer_mama.target_names`.\n",
    "\n",
    "O primeiro ponto de dados foi marcado como maligno ou benigno?"
   ]
  },
  {
   "cell_type": "code",
   "execution_count": null,
   "id": "3e711426",
   "metadata": {},
   "outputs": [],
   "source": []
  },
  {
   "cell_type": "markdown",
   "id": "cc31317b",
   "metadata": {},
   "source": [
    "### Dividindo os dados em conjuntos de treinamento e teste"
   ]
  },
  {
   "cell_type": "markdown",
   "id": "5a0b5f42",
   "metadata": {},
   "source": [
    "**4.** Divida os dados em conjuntos de treinamento e teste usando o método `train_test_split()` do `sklearn`. Use um `test_size` de 0.2 e `random_state = 100`. Isso garantirá que toda vez que você executar seu código, os dados sejam divididos da mesma maneira."
   ]
  },
  {
   "cell_type": "code",
   "execution_count": null,
   "id": "58275047",
   "metadata": {},
   "outputs": [],
   "source": []
  },
  {
   "cell_type": "markdown",
   "id": "f7bc9040",
   "metadata": {},
   "source": [
    "### Executando o KNN"
   ]
  },
  {
   "cell_type": "markdown",
   "id": "8388ae2a",
   "metadata": {},
   "source": [
    "**5.** Agora que criamos conjuntos de treinamento e teste, podemos criar um `KNeighborsClassifier` e testar sua precisão. Comece importando `KNeighborsClassifier` de `sklearn.neighbors`"
   ]
  },
  {
   "cell_type": "code",
   "execution_count": null,
   "id": "f77590af",
   "metadata": {},
   "outputs": [],
   "source": []
  },
  {
   "cell_type": "markdown",
   "id": "9aa6077a",
   "metadata": {},
   "source": [
    "**6.** Crie um `KNeighborsClassifier` onde n_neighbors = 3. Nomeie o classificador como `knn`"
   ]
  },
  {
   "cell_type": "code",
   "execution_count": null,
   "id": "f3f69936",
   "metadata": {},
   "outputs": [],
   "source": []
  },
  {
   "cell_type": "markdown",
   "id": "dd7f20cd",
   "metadata": {},
   "source": [
    "**7.** Treine seu classificador usando a função `fit`. Esta função recebe dois parâmetros: o conjunto de treinamento e os rótulos de treinamento."
   ]
  },
  {
   "cell_type": "code",
   "execution_count": null,
   "id": "c20206e3",
   "metadata": {},
   "outputs": [],
   "source": []
  },
  {
   "cell_type": "markdown",
   "id": "6225814a",
   "metadata": {},
   "source": [
    "**8.** Agora que o classificador foi treinado, vamos descobrir o quão preciso ele é no conjunto de teste. Chame a função `score` do classificador. `score` recebe dois parâmetros: o conjunto de teste e os rótulos de teste. Imprima o resultado!"
   ]
  },
  {
   "cell_type": "code",
   "execution_count": null,
   "id": "0051a328",
   "metadata": {},
   "outputs": [],
   "source": []
  },
  {
   "cell_type": "markdown",
   "id": "ea18d110",
   "metadata": {},
   "source": [
    "**9.** O classificador se sai muito bem quando `k = 3`. Mas talvez haja um `k` melhor. Teste o classificador knn com valores de `k` de `1` até `100`.\n",
    "Qual `k` apresenta o melhor resultado?"
   ]
  },
  {
   "cell_type": "code",
   "execution_count": null,
   "id": "d0f0f588",
   "metadata": {},
   "outputs": [],
   "source": []
  },
  {
   "cell_type": "markdown",
   "id": "edb15b9f",
   "metadata": {},
   "source": [
    "### Apresentando os resultados"
   ]
  },
  {
   "cell_type": "markdown",
   "id": "340b022a",
   "metadata": {},
   "source": [
    "**10.** Agora temos a precisão para 100 `k`s diferentes. Em vez de apenas imprimir, vamos fazer um gráfico usando `matplotlib`\n",
    "\n",
    "O eixo x deve ser os valores `k` que testamos. Esta deve ser uma lista de números entre 1 e 100.\n",
    "\n",
    "O eixo y do nosso gráfico deve ser a precisão do conjunto de teste."
   ]
  },
  {
   "cell_type": "markdown",
   "id": "70df6e28",
   "metadata": {},
   "source": [
    "**11.** Imprima a matriz de confusão, utilizando os dados do conjunto de teste, do modelo com o `k` que obteve o maior `score` ."
   ]
  },
  {
   "cell_type": "code",
   "execution_count": null,
   "id": "5d6fe736",
   "metadata": {},
   "outputs": [],
   "source": []
  }
 ],
 "metadata": {
  "kernelspec": {
   "display_name": "Python 3",
   "language": "python",
   "name": "python3"
  },
  "language_info": {
   "codemirror_mode": {
    "name": "ipython",
    "version": 3
   },
   "file_extension": ".py",
   "mimetype": "text/x-python",
   "name": "python",
   "nbconvert_exporter": "python",
   "pygments_lexer": "ipython3",
   "version": "3.8.8"
  }
 },
 "nbformat": 4,
 "nbformat_minor": 5
}
