{
 "cells": [
  {
   "cell_type": "markdown",
   "id": "596a9ea0",
   "metadata": {},
   "source": [
    "# Classificador de câncer de mama"
   ]
  },
  {
   "cell_type": "markdown",
   "id": "21e0ded0",
   "metadata": {},
   "source": [
    "Neste projeto, usaremos um classificador K-Nearest Neighbor para prever se um paciente tem câncer de mama."
   ]
  },
  {
   "cell_type": "markdown",
   "id": "b59beab8",
   "metadata": {},
   "source": [
    "### Carregando o conjunto de dados"
   ]
  },
  {
   "cell_type": "markdown",
   "id": "8effc9a5",
   "metadata": {},
   "source": [
    "Vamos obter os dados de cancêr de mama do próprio `sklearn` importando a função `load_breast_cancer` do `sklearn.datasets` "
   ]
  },
  {
   "cell_type": "code",
   "execution_count": 15,
   "id": "4267da2b",
   "metadata": {},
   "outputs": [],
   "source": [
    "from sklearn.datasets import load_breast_cancer"
   ]
  },
  {
   "cell_type": "markdown",
   "id": "36f4bffb",
   "metadata": {},
   "source": [
    "**1.** Depois de importar o conjunto de dados, vamos carregar os dados em uma variável chamada `dados_cancer_mama`. Faça isso configurando `dados_cancer_mama` igual à função `load_breast_cancer()`."
   ]
  },
  {
   "cell_type": "code",
   "execution_count": 16,
   "id": "c3691c55",
   "metadata": {},
   "outputs": [],
   "source": [
    "dados_cancer_mama = load_breast_cancer()"
   ]
  },
  {
   "cell_type": "markdown",
   "id": "932e71fc",
   "metadata": {},
   "source": [
    "**2.** Antes de começarmos a criar nosso classificador, vamos dar uma olhada nos dados. Comece imprimindo `dados_cancer_mama.data[0]`. Esse é o primeiro ponto de dados em nosso conjunto. Mas o que todos esses números representam? Imprima também `dados_cancer_mama.feature_names`."
   ]
  },
  {
   "cell_type": "code",
   "execution_count": 17,
   "id": "8b0708aa",
   "metadata": {},
   "outputs": [
    {
     "name": "stdout",
     "output_type": "stream",
     "text": [
      "[1.799e+01 1.038e+01 1.228e+02 1.001e+03 1.184e-01 2.776e-01 3.001e-01\n",
      " 1.471e-01 2.419e-01 7.871e-02 1.095e+00 9.053e-01 8.589e+00 1.534e+02\n",
      " 6.399e-03 4.904e-02 5.373e-02 1.587e-02 3.003e-02 6.193e-03 2.538e+01\n",
      " 1.733e+01 1.846e+02 2.019e+03 1.622e-01 6.656e-01 7.119e-01 2.654e-01\n",
      " 4.601e-01 1.189e-01]\n",
      "['mean radius' 'mean texture' 'mean perimeter' 'mean area'\n",
      " 'mean smoothness' 'mean compactness' 'mean concavity'\n",
      " 'mean concave points' 'mean symmetry' 'mean fractal dimension'\n",
      " 'radius error' 'texture error' 'perimeter error' 'area error'\n",
      " 'smoothness error' 'compactness error' 'concavity error'\n",
      " 'concave points error' 'symmetry error' 'fractal dimension error'\n",
      " 'worst radius' 'worst texture' 'worst perimeter' 'worst area'\n",
      " 'worst smoothness' 'worst compactness' 'worst concavity'\n",
      " 'worst concave points' 'worst symmetry' 'worst fractal dimension']\n"
     ]
    }
   ],
   "source": [
    "print(dados_cancer_mama.data[0])\n",
    "print(dados_cancer_mama.feature_names)"
   ]
  },
  {
   "cell_type": "markdown",
   "id": "1286a7b1",
   "metadata": {},
   "source": [
    "**3.** Agora temos uma noção de como são os dados, vamos verificar o que estamos tentando classificar? Vamos imprimir ambos `dados_cancer_mama.target` e `dados_cancer_mama.target_names`.\n",
    "\n",
    "O primeiro ponto de dados foi marcado como maligno ou benigno?"
   ]
  },
  {
   "cell_type": "code",
   "execution_count": 18,
   "id": "3e711426",
   "metadata": {},
   "outputs": [
    {
     "name": "stdout",
     "output_type": "stream",
     "text": [
      "[0 0 0 0 0 0 0 0 0 0 0 0 0 0 0 0 0 0 0 1 1 1 0 0 0 0 0 0 0 0 0 0 0 0 0 0 0\n",
      " 1 0 0 0 0 0 0 0 0 1 0 1 1 1 1 1 0 0 1 0 0 1 1 1 1 0 1 0 0 1 1 1 1 0 1 0 0\n",
      " 1 0 1 0 0 1 1 1 0 0 1 0 0 0 1 1 1 0 1 1 0 0 1 1 1 0 0 1 1 1 1 0 1 1 0 1 1\n",
      " 1 1 1 1 1 1 0 0 0 1 0 0 1 1 1 0 0 1 0 1 0 0 1 0 0 1 1 0 1 1 0 1 1 1 1 0 1\n",
      " 1 1 1 1 1 1 1 1 0 1 1 1 1 0 0 1 0 1 1 0 0 1 1 0 0 1 1 1 1 0 1 1 0 0 0 1 0\n",
      " 1 0 1 1 1 0 1 1 0 0 1 0 0 0 0 1 0 0 0 1 0 1 0 1 1 0 1 0 0 0 0 1 1 0 0 1 1\n",
      " 1 0 1 1 1 1 1 0 0 1 1 0 1 1 0 0 1 0 1 1 1 1 0 1 1 1 1 1 0 1 0 0 0 0 0 0 0\n",
      " 0 0 0 0 0 0 0 1 1 1 1 1 1 0 1 0 1 1 0 1 1 0 1 0 0 1 1 1 1 1 1 1 1 1 1 1 1\n",
      " 1 0 1 1 0 1 0 1 1 1 1 1 1 1 1 1 1 1 1 1 1 0 1 1 1 0 1 0 1 1 1 1 0 0 0 1 1\n",
      " 1 1 0 1 0 1 0 1 1 1 0 1 1 1 1 1 1 1 0 0 0 1 1 1 1 1 1 1 1 1 1 1 0 0 1 0 0\n",
      " 0 1 0 0 1 1 1 1 1 0 1 1 1 1 1 0 1 1 1 0 1 1 0 0 1 1 1 1 1 1 0 1 1 1 1 1 1\n",
      " 1 0 1 1 1 1 1 0 1 1 0 1 1 1 1 1 1 1 1 1 1 1 1 0 1 0 0 1 0 1 1 1 1 1 0 1 1\n",
      " 0 1 0 1 1 0 1 0 1 1 1 1 1 1 1 1 0 0 1 1 1 1 1 1 0 1 1 1 1 1 1 1 1 1 1 0 1\n",
      " 1 1 1 1 1 1 0 1 0 1 1 0 1 1 1 1 1 0 0 1 0 1 0 1 1 1 1 1 0 1 1 0 1 0 1 0 0\n",
      " 1 1 1 0 1 1 1 1 1 1 1 1 1 1 1 0 1 0 0 1 1 1 1 1 1 1 1 1 1 1 1 1 1 1 1 1 1\n",
      " 1 1 1 1 1 1 1 0 0 0 0 0 0 1]\n",
      "['malignant' 'benign']\n"
     ]
    }
   ],
   "source": [
    "print(dados_cancer_mama.target)\n",
    "print(dados_cancer_mama.target_names)"
   ]
  },
  {
   "cell_type": "markdown",
   "id": "cc31317b",
   "metadata": {},
   "source": [
    "### Dividindo os dados em conjuntos de treinamento e teste"
   ]
  },
  {
   "cell_type": "markdown",
   "id": "5a0b5f42",
   "metadata": {},
   "source": [
    "**4.** Divida os dados em conjuntos de treinamento e teste usando o método `train_test_split()` do `sklearn`. Use um `test_size` de 0.2 e `random_state = 100`. Isso garantirá que toda vez que você executar seu código, os dados sejam divididos da mesma maneira."
   ]
  },
  {
   "cell_type": "code",
   "execution_count": 24,
   "id": "58275047",
   "metadata": {},
   "outputs": [],
   "source": [
    "from sklearn.model_selection import train_test_split\n",
    "\n",
    "X_train, X_test, y_train, y_test = train_test_split(dados_cancer_mama.data, dados_cancer_mama.target, test_size=0.2, random_state=100)"
   ]
  },
  {
   "cell_type": "markdown",
   "id": "f7bc9040",
   "metadata": {},
   "source": [
    "### Executando o KNN"
   ]
  },
  {
   "cell_type": "markdown",
   "id": "8388ae2a",
   "metadata": {},
   "source": [
    "**5.** Agora que criamos conjuntos de treinamento e teste, podemos criar um `KNeighborsClassifier` e testar sua precisão. Comece importando `KNeighborsClassifier` de `sklearn.neighbors`"
   ]
  },
  {
   "cell_type": "code",
   "execution_count": 27,
   "id": "f77590af",
   "metadata": {},
   "outputs": [],
   "source": [
    "from sklearn.neighbors import KNeighborsClassifier"
   ]
  },
  {
   "cell_type": "markdown",
   "id": "9aa6077a",
   "metadata": {},
   "source": [
    "**6.** Crie um `KNeighborsClassifier` onde n_neighbors = 3. Nomeie o classificador como `knn`"
   ]
  },
  {
   "cell_type": "code",
   "execution_count": 28,
   "id": "f3f69936",
   "metadata": {},
   "outputs": [],
   "source": [
    "knn = KNeighborsClassifier(n_neighbors=3)"
   ]
  },
  {
   "cell_type": "markdown",
   "id": "dd7f20cd",
   "metadata": {},
   "source": [
    "**7.** Treine seu classificador usando a função `fit`. Esta função recebe dois parâmetros: o conjunto de treinamento e os rótulos de treinamento."
   ]
  },
  {
   "cell_type": "code",
   "execution_count": 30,
   "id": "c20206e3",
   "metadata": {},
   "outputs": [],
   "source": [
    "knn.fit(X_train, y_train);"
   ]
  },
  {
   "cell_type": "markdown",
   "id": "6225814a",
   "metadata": {},
   "source": [
    "**8.** Agora que o classificador foi treinado, vamos descobrir o quão preciso ele é no conjunto de teste. Chame a função `score` do classificador. `score` recebe dois parâmetros: o conjunto de teste e os rótulos de teste. Imprima o resultado!"
   ]
  },
  {
   "cell_type": "code",
   "execution_count": 31,
   "id": "0051a328",
   "metadata": {},
   "outputs": [
    {
     "data": {
      "text/plain": [
       "0.9473684210526315"
      ]
     },
     "execution_count": 31,
     "metadata": {},
     "output_type": "execute_result"
    }
   ],
   "source": [
    "knn.score(X_test, y_test)"
   ]
  },
  {
   "cell_type": "markdown",
   "id": "ea18d110",
   "metadata": {},
   "source": [
    "**9.** O classificador se sai muito bem quando `k = 3`. Mas talvez haja um `k` melhor. Teste o classificador knn com valores de `k` de `1` até `100`.\n",
    "Qual `k` apresenta o melhor resultado?"
   ]
  },
  {
   "cell_type": "code",
   "execution_count": 37,
   "id": "d0f0f588",
   "metadata": {},
   "outputs": [
    {
     "name": "stdout",
     "output_type": "stream",
     "text": [
      "99\n"
     ]
    }
   ],
   "source": [
    "ks = []\n",
    "\n",
    "for k in range(1, 100):\n",
    "  knn = KNeighborsClassifier(n_neighbors=k)\n",
    "  knn.fit(X_train, y_train);\n",
    "  ks.append({\n",
    "    'k': k,\n",
    "    'score': knn.score(X_test, y_test)\n",
    "  })\n",
    "\n",
    "max_k = {}\n",
    "\n",
    "for dict in ks:\n",
    "  if max(dict.values()) > max_k:\n",
    "    max_k['value'] = max(dict.values())\n",
    "    max_k['k'] = \n",
    "\n",
    "print(max_k)"
   ]
  },
  {
   "cell_type": "markdown",
   "id": "edb15b9f",
   "metadata": {},
   "source": [
    "### Apresentando os resultados"
   ]
  },
  {
   "cell_type": "markdown",
   "id": "340b022a",
   "metadata": {},
   "source": [
    "**10.** Agora temos a precisão para 100 `k`s diferentes. Em vez de apenas imprimir, vamos fazer um gráfico usando `matplotlib`\n",
    "\n",
    "O eixo x deve ser os valores `k` que testamos. Esta deve ser uma lista de números entre 1 e 100.\n",
    "\n",
    "O eixo y do nosso gráfico deve ser a precisão do conjunto de teste."
   ]
  },
  {
   "cell_type": "markdown",
   "id": "70df6e28",
   "metadata": {},
   "source": [
    "**11.** Imprima a matriz de confusão, utilizando os dados do conjunto de teste, do modelo com o `k` que obteve o maior `score` ."
   ]
  },
  {
   "cell_type": "code",
   "execution_count": null,
   "id": "5d6fe736",
   "metadata": {},
   "outputs": [],
   "source": []
  }
 ],
 "metadata": {
  "kernelspec": {
   "display_name": "Python 3.8.10 64-bit",
   "language": "python",
   "name": "python3"
  },
  "language_info": {
   "codemirror_mode": {
    "name": "ipython",
    "version": 3
   },
   "file_extension": ".py",
   "mimetype": "text/x-python",
   "name": "python",
   "nbconvert_exporter": "python",
   "pygments_lexer": "ipython3",
   "version": "3.8.10"
  },
  "vscode": {
   "interpreter": {
    "hash": "916dbcbb3f70747c44a77c7bcd40155683ae19c65e1c03b4aa3499c5328201f1"
   }
  }
 },
 "nbformat": 4,
 "nbformat_minor": 5
}
